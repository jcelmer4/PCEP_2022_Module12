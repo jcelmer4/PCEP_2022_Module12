{
 "cells": [
  {
   "cell_type": "markdown",
   "metadata": {},
   "source": [
    "### Exercise 1. \n",
    "Create a dictionary named pairs with key value pairs of:\n",
    "    - 'hello' and 'fire', \n",
    "    - 3 and 'seven', \n",
    "    - 'strong' and 45. \n",
    "\n",
    "Then, print out the dictionary."
   ]
  },
  {
   "cell_type": "code",
   "execution_count": 1,
   "metadata": {},
   "outputs": [
    {
     "name": "stdout",
     "output_type": "stream",
     "text": [
      "{'hello': 'fire', 3: 'seven', 'strong': 45}\n"
     ]
    }
   ],
   "source": [
    "pairs={\"hello\":\"fire\", 3 : \"seven\", \"strong\": 45}\n",
    "print(pairs)"
   ]
  },
  {
   "cell_type": "markdown",
   "metadata": {},
   "source": [
    "### Exercise 2. \n",
    "Add 'welcome' and 56 pair into <b><i>pairs</i></b> dictionary from exercise 1. Then, print out the dictionary. "
   ]
  },
  {
   "cell_type": "code",
   "execution_count": 2,
   "metadata": {},
   "outputs": [
    {
     "name": "stdout",
     "output_type": "stream",
     "text": [
      "{'hello': 'fire', 3: 'seven', 'strong': 45, 'welcome': 56}\n"
     ]
    }
   ],
   "source": [
    "pairs[\"welcome\"] = 56\n",
    "print(pairs)"
   ]
  },
  {
   "cell_type": "markdown",
   "metadata": {},
   "source": [
    "### Exercise 3. \n",
    "Delete one item from <b><i>pairs</i></b> dictionary. Then, print deleted item and the dictionary."
   ]
  },
  {
   "cell_type": "code",
   "execution_count": 3,
   "metadata": {},
   "outputs": [
    {
     "name": "stdout",
     "output_type": "stream",
     "text": [
      "{3: 'seven', 'strong': 45, 'welcome': 56}\n"
     ]
    }
   ],
   "source": [
    "del pairs[\"hello\"]\n",
    "print(pairs)"
   ]
  },
  {
   "cell_type": "markdown",
   "metadata": {},
   "source": [
    "### Exercise 4. \n",
    "Print the value of an item where key is 3 in <b><i>pairs</i></b> dicitonary"
   ]
  },
  {
   "cell_type": "code",
   "execution_count": 4,
   "metadata": {},
   "outputs": [
    {
     "name": "stdout",
     "output_type": "stream",
     "text": [
      "seven\n"
     ]
    }
   ],
   "source": [
    "print(pairs[3])"
   ]
  },
  {
   "cell_type": "markdown",
   "metadata": {},
   "source": [
    "### Exercise 5. \n",
    "Try to find out if the key called 'hello' exist in <b><i>pairs</i></b> dictionary. Print 'key is found' message if the key exists otherwise print 'key is not there'."
   ]
  },
  {
   "cell_type": "code",
   "execution_count": 5,
   "metadata": {},
   "outputs": [
    {
     "name": "stdout",
     "output_type": "stream",
     "text": [
      "key is not there\n"
     ]
    }
   ],
   "source": [
    "if \"hello\" in pairs:\n",
    "    print('key is found')\n",
    "else:\n",
    "    print('key is not there')"
   ]
  },
  {
   "cell_type": "markdown",
   "metadata": {},
   "source": [
    "### Exercise 6. \n",
    "Create a Test Scores program that gets the name of students and test score from a user. Then, generate a list of students who passed and a list of students who failed where passing test score is 60 or above. "
   ]
  },
  {
   "cell_type": "code",
   "execution_count": null,
   "metadata": {},
   "outputs": [],
   "source": [
    "name_input = input(\"Enter your name:\")\n",
    "grade = int(input(\"Enter your test score\"))\n",
    "name_score = {'name': name_input, 'score': grade}\n",
    "print(name_score)"
   ]
  },
  {
   "cell_type": "code",
   "execution_count": 6,
   "metadata": {},
   "outputs": [
    {
     "name": "stdout",
     "output_type": "stream",
     "text": [
      "Enter your name: Becca\n",
      "Enter your grade:72\n",
      "Would you like to add another grade? (y/n)y\n",
      "Enter your name: Jackie\n",
      "Enter your grade:88\n",
      "Would you like to add another grade? (y/n)y\n",
      "Enter your name: Danielle\n",
      "Enter your grade:73\n",
      "Would you like to add another grade? (y/n)y\n",
      "Enter your name: Jack\n",
      "Enter your grade:95\n",
      "Would you like to add another grade? (y/n)y\n",
      "Enter your name: Saaj\n",
      "Enter your grade:54\n",
      "Would you like to add another grade? (y/n)y\n",
      "Enter your name: Daniel\n",
      "Enter your grade:44\n",
      "Would you like to add another grade? (y/n)n\n",
      "Students with a passing grade ['Becca', 'Jackie', 'Danielle', 'Jack']\n",
      "Students with a passing grade ['Saaj', 'Daniel']\n"
     ]
    }
   ],
   "source": [
    "name_scores = {}\n",
    "\n",
    "#empty list for student with passing grade\n",
    "pass_grade = []\n",
    "\n",
    "#empty list for students with failing grade\n",
    "fail_grade = []\n",
    "\n",
    "#condition statement to have user add name and grade\n",
    "answer = \"\"\n",
    "while answer !='n':\n",
    "    name = input(\"Enter your name: \")\n",
    "    name_scores[name] = int(input(\"Enter your grade:\" ))\n",
    "\n",
    "# based on grade score the user will be added to pass grade or fail grade list\n",
    "    if name_scores[name] >= 60:\n",
    "        pass_grade.append(name)\n",
    "    else:\n",
    "        fail_grade.append(name)\n",
    "    \n",
    "    answer = input(\"Would you like to add another grade? (y/n)\")\n",
    "\n",
    "print(f\"Students with a passing grade {pass_grade}\")\n",
    "\n",
    "print(f\"Students with a passing grade {fail_grade}\")"
   ]
  },
  {
   "cell_type": "markdown",
   "metadata": {},
   "source": [
    "### Exercise 7. \n",
    "\n",
    "Create a Word Counter program that gets a string of text from a user and then counts the number of times a word occrs in the string. \n",
    "\n",
    "The output should look something like this:\n",
    "\n",
    "    The Word Counter Program\n",
    "    \n",
    "    Enter a text string: \n",
    "    Humpty Dumpty sat on a wall, Humpty Dumpty had a great fall. All the king’s horses and all the king’s men couldn’t put Humpty together again.\n",
    "\n",
    "    a : 2\n",
    "    again : 1\n",
    "    all : 2\n",
    "    and : 1\n",
    "    couldn’t : 1\n",
    "    dumpty : 2\n",
    "    fall : 1\n",
    "    great : 1\n",
    "    had : 1\n",
    "    horses : 1\n",
    "    humpty : 3\n",
    "    king’s : 2\n",
    "    men : 1\n",
    "    on : 1\n",
    "    put : 1\n",
    "    sat : 1\n",
    "    the : 2\n",
    "    together : 1\n",
    "    wall : 1\n",
    "\n",
    "    There were total 26 words in the text string   "
   ]
  },
  {
   "cell_type": "markdown",
   "metadata": {},
   "source": []
  },
  {
   "cell_type": "code",
   "execution_count": 36,
   "metadata": {},
   "outputs": [
    {
     "name": "stdout",
     "output_type": "stream",
     "text": [
      "The Word Counter Program\n",
      "Enter string of text: Humpty Dumpty sat on a wall, Humpty Dumpty had a great fall. All the king’s horses and all the king’s men couldn’t put Humpty together again.\n",
      " humpty:\n",
      " dumpty:\n",
      " sat:\n",
      " on:\n",
      " a:\n",
      " wall,:\n",
      " humpty:\n",
      " dumpty:\n",
      " had:\n",
      " a:\n",
      " great:\n",
      " fall.:\n",
      " all:\n",
      " the:\n",
      " king’s:\n",
      " horses:\n",
      " and:\n",
      " all:\n",
      " the:\n",
      " king’s:\n",
      " men:\n",
      " couldn’t:\n",
      " put:\n",
      " humpty:\n",
      " together:\n",
      " again.:\n"
     ]
    }
   ],
   "source": [
    "print(\"The Word Counter Program\")\n",
    "word_split = []\n",
    "word_phrase = input(\"Enter string of text: \")\n",
    "lower = word_phrase.lower()\n",
    "len(word_phrase)\n",
    "word_split = lower.split()\n",
    "count = 1\n",
    "for x in range (0, len(word_split)):\n",
    "    print(f\" {word_split[x]}:\")\n",
    "        \n",
    "\n",
    "\n",
    "\n"
   ]
  }
 ],
 "metadata": {
  "kernelspec": {
   "display_name": "Python 3 (ipykernel)",
   "language": "python",
   "name": "python3"
  },
  "language_info": {
   "codemirror_mode": {
    "name": "ipython",
    "version": 3
   },
   "file_extension": ".py",
   "mimetype": "text/x-python",
   "name": "python",
   "nbconvert_exporter": "python",
   "pygments_lexer": "ipython3",
   "version": "3.9.12"
  }
 },
 "nbformat": 4,
 "nbformat_minor": 4
}
